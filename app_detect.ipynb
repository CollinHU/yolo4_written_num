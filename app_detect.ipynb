{
 "cells": [
  {
   "cell_type": "code",
   "execution_count": 381,
   "metadata": {},
   "outputs": [],
   "source": [
    "import os\n",
    "os.environ['CUDA_VISIBLE_DEVICES'] = '0'\n",
    "import cv2\n",
    "import numpy as np\n",
    "import random\n",
    "import colorsys\n",
    "import time\n",
    "import tensorflow as tf\n",
    "from tensorflow.keras.layers import Conv2D, Input\n",
    "from core.config import *\n",
    "from core.yolov4 import *\n",
    "\n",
    "YOLO_STRIDES                = [8, 16, 32]\n",
    "STRIDES         = np.array(YOLO_STRIDES)\n",
    "ANCHORS         = (np.array(YOLO_ANCHORS).T/STRIDES).T\n",
    "\n",
    "def detect_image(Yolo, image_path, output_path, input_size=416, show=False, \n",
    "                CLASSES=YOLO_COCO_CLASSES, \n",
    "                score_threshold=0.5, iou_threshold=0.5, \n",
    "                rectangle_colors=''):\n",
    "    original_image      = cv2.imread(image_path)\n",
    "    original_image      = cv2.cvtColor(original_image, cv2.COLOR_BGR2RGB)\n",
    "    original_image      = cv2.cvtColor(original_image, cv2.COLOR_BGR2RGB)\n",
    "\n",
    "    image_data = image_preprocess(np.copy(original_image), [input_size, input_size])\n",
    "    plt.imshow(image_data)\n",
    "    image_data = image_data[np.newaxis, ...].astype(np.float32)\n",
    "\n",
    "    if YOLO_FRAMEWORK == \"tf\":\n",
    "        pred_bbox = Yolo.predict(image_data, verbose=0)\n",
    "    elif YOLO_FRAMEWORK == \"trt\":\n",
    "        batched_input = tf.constant(image_data)\n",
    "        result = Yolo(batched_input)\n",
    "        pred_bbox = []\n",
    "        for key, value in result.items():\n",
    "            value = value.numpy()\n",
    "            pred_bbox.append(value)\n",
    "        \n",
    "    pred_bbox = [tf.reshape(x, (-1, tf.shape(x)[-1])) for x in pred_bbox]\n",
    "    pred_bbox = tf.concat(pred_bbox, axis=0)\n",
    "    #print(pred_bbox)\n",
    "    bboxes = postprocess_boxes(pred_bbox, original_image, input_size, score_threshold)\n",
    "    #print(len(bboxes))\n",
    "    bboxes = nms(bboxes, iou_threshold, method='nms')\n",
    "    #print(bboxes)\n",
    "    bboxes = merge_bboxes(bboxes)\n",
    "\n",
    "    image = draw_bbox(original_image, bboxes, CLASSES=CLASSES,show_label=True, \n",
    "                    show_confidence = False, rectangle_colors=rectangle_colors)\n",
    "    # CreateXMLfile(\"XML_Detections\", str(int(time.time())), original_image, bboxes, read_class_names(CLASSES))\n",
    "\n",
    "    if output_path != '': cv2.imwrite(output_path, image)\n",
    "    if show:\n",
    "        # Show the image\n",
    "        cv2.imshow(\"predicted image\", image)\n",
    "        # Load and hold the image\n",
    "        cv2.waitKey(0)\n",
    "        # To close the window after the required kill value was provided\n",
    "        cv2.destroyAllWindows()\n",
    "        \n",
    "    return image, bboxes\n",
    "\n",
    "def postprocess_boxes(pred_bbox, original_image, input_size, score_threshold):\n",
    "    valid_scale=[0, np.inf]\n",
    "    pred_bbox = np.array(pred_bbox)\n",
    "\n",
    "    pred_xywh = pred_bbox[:, 0:4]\n",
    "    pred_conf = pred_bbox[:, 4]\n",
    "    pred_prob = pred_bbox[:, 5:]\n",
    "\n",
    "    # 1. (x, y, w, h) --> (xmin, ymin, xmax, ymax)\n",
    "    pred_coor = np.concatenate([pred_xywh[:, :2] - pred_xywh[:, 2:] * 0.5,\n",
    "                                pred_xywh[:, :2] + pred_xywh[:, 2:] * 0.5], axis=-1)\n",
    "    # 2. (xmin, ymin, xmax, ymax) -> (xmin_org, ymin_org, xmax_org, ymax_org)\n",
    "    org_h, org_w = original_image.shape[:2]\n",
    "    resize_ratio = min(input_size / org_w, input_size / org_h)\n",
    "\n",
    "    dw = (input_size - resize_ratio * org_w) / 2\n",
    "    dh = (input_size - resize_ratio * org_h) / 2\n",
    "\n",
    "    pred_coor[:, 0::2] = 1.0 * (pred_coor[:, 0::2] - dw) / resize_ratio\n",
    "    pred_coor[:, 1::2] = 1.0 * (pred_coor[:, 1::2] - dh) / resize_ratio\n",
    "\n",
    "    # 3. clip some boxes those are out of range\n",
    "    pred_coor = np.concatenate([np.maximum(pred_coor[:, :2], [0, 0]),\n",
    "                                np.minimum(pred_coor[:, 2:], [org_w - 1, org_h - 1])], axis=-1)\n",
    "    invalid_mask = np.logical_or((pred_coor[:, 0] > pred_coor[:, 2]), (pred_coor[:, 1] > pred_coor[:, 3]))\n",
    "    pred_coor[invalid_mask] = 0\n",
    "\n",
    "    # 4. discard some invalid boxes\n",
    "    bboxes_scale = np.sqrt(np.multiply.reduce(pred_coor[:, 2:4] - pred_coor[:, 0:2], axis=-1))\n",
    "    scale_mask = np.logical_and((valid_scale[0] < bboxes_scale), (bboxes_scale < valid_scale[1]))\n",
    "\n",
    "    # 5. discard boxes with low scores\n",
    "    classes = np.argmax(pred_prob, axis=-1)\n",
    "    scores = pred_conf * pred_prob[np.arange(len(pred_coor)), classes]\n",
    "    score_mask = scores > score_threshold\n",
    "    mask = np.logical_and(scale_mask, score_mask)\n",
    "    coors, scores, classes = pred_coor[mask], scores[mask], classes[mask]\n",
    "\n",
    "    return np.concatenate([coors, scores[:, np.newaxis], classes[:, np.newaxis]], axis=-1)\n",
    "\n",
    "def bboxes_iou(boxes1, boxes2):\n",
    "    boxes1 = np.array(boxes1)\n",
    "    boxes2 = np.array(boxes2)\n",
    "\n",
    "    boxes1_area = (boxes1[..., 2] - boxes1[..., 0]) * (boxes1[..., 3] - boxes1[..., 1])\n",
    "    boxes2_area = (boxes2[..., 2] - boxes2[..., 0]) * (boxes2[..., 3] - boxes2[..., 1])\n",
    "\n",
    "    left_up       = np.maximum(boxes1[..., :2], boxes2[..., :2])\n",
    "    right_down    = np.minimum(boxes1[..., 2:], boxes2[..., 2:])\n",
    "\n",
    "    inter_section = np.maximum(right_down - left_up, 0.0)\n",
    "    inter_area    = inter_section[..., 0] * inter_section[..., 1]\n",
    "    union_area    = boxes1_area + boxes2_area - inter_area\n",
    "    ious          = np.maximum(1.0 * inter_area / union_area, np.finfo(np.float32).eps)\n",
    "\n",
    "    return ious\n",
    "\n",
    "def draw_bbox(image, bboxes, CLASSES=YOLO_COCO_CLASSES, show_label=True, \n",
    "show_confidence = True, Text_colors=(255,255,0), rectangle_colors='', tracking=False):   \n",
    "    NUM_CLASS = read_class_names(CLASSES)\n",
    "    num_classes = len(NUM_CLASS)\n",
    "    image_h, image_w, _ = image.shape\n",
    "    hsv_tuples = [(1.0 * x / num_classes, 1., 1.) for x in range(num_classes)]\n",
    "    #print(\"hsv_tuples\", hsv_tuples)\n",
    "    colors = list(map(lambda x: colorsys.hsv_to_rgb(*x), hsv_tuples))\n",
    "    colors = list(map(lambda x: (int(x[0] * 255), int(x[1] * 255), int(x[2] * 255)), colors))\n",
    "\n",
    "    random.seed(0)\n",
    "    random.shuffle(colors)\n",
    "    random.seed(None)\n",
    "\n",
    "    for i, bbox in enumerate(bboxes):\n",
    "        coor = np.array(bbox[:4], dtype=np.int32)\n",
    "        score = bbox[4]\n",
    "        class_ind = int(bbox[5])\n",
    "        bbox_color = rectangle_colors if rectangle_colors != '' else colors[class_ind]\n",
    "        bbox_thick = int(0.6 * (image_h + image_w) / 1000)\n",
    "        if bbox_thick < 1: bbox_thick = 1\n",
    "        fontScale = 0.75 * bbox_thick\n",
    "        (x1, y1), (x2, y2) = (coor[0], coor[1]), (coor[2], coor[3])\n",
    "\n",
    "        # put object rectangle\n",
    "        cv2.rectangle(image, (x1, y1), (x2, y2), bbox_color, bbox_thick*2)\n",
    "\n",
    "        if show_label:\n",
    "            # get text label\n",
    "            score_str = \" {:.2f}\".format(score) if show_confidence else \"\"\n",
    "\n",
    "            if tracking: score_str = \" \"+str(score)\n",
    "\n",
    "            try:\n",
    "                label = \"{}\".format(NUM_CLASS[class_ind]) + score_str\n",
    "            except KeyError:\n",
    "                print(\"You received KeyError, this might be that you are trying to use yolo original weights\")\n",
    "                print(\"while using custom classes, if using custom model in configs.py set YOLO_CUSTOM_WEIGHTS = True\")\n",
    "\n",
    "            # get text size\n",
    "            (text_width, text_height), baseline = cv2.getTextSize(label, cv2.FONT_HERSHEY_COMPLEX_SMALL,\n",
    "                                                                  fontScale, thickness=bbox_thick)\n",
    "            # put filled text rectangle\n",
    "            cv2.rectangle(image, (x1, y1), (x1 + text_width, y1 - text_height - baseline), bbox_color, thickness=cv2.FILLED)\n",
    "\n",
    "            # put text above rectangle\n",
    "            cv2.putText(image, label, (x1, y1-4), cv2.FONT_HERSHEY_COMPLEX_SMALL,\n",
    "                        fontScale, Text_colors, bbox_thick, lineType=cv2.LINE_AA)\n",
    "\n",
    "    return image\n",
    "\n",
    "def nms(bboxes, iou_threshold, sigma=0.3, method='nms'):\n",
    "    \"\"\"\n",
    "    :param bboxes: (xmin, ymin, xmax, ymax, score, class)\n",
    "\n",
    "    Note: soft-nms, https://arxiv.org/pdf/1704.04503.pdf\n",
    "          https://github.com/bharatsingh430/soft-nms\n",
    "    \"\"\"\n",
    "    classes_in_img = list(set(bboxes[:, 5]))\n",
    "    best_bboxes = []\n",
    "\n",
    "    for cls in classes_in_img:\n",
    "        cls_mask = (bboxes[:, 5] == cls)\n",
    "        cls_bboxes = bboxes[cls_mask]\n",
    "        # Process 1: Determine whether the number of bounding boxes is greater than 0 \n",
    "        while len(cls_bboxes) > 0:\n",
    "            # Process 2: Select the bounding box with the highest score according to socre order A\n",
    "            max_ind = np.argmax(cls_bboxes[:, 4])\n",
    "            best_bbox = cls_bboxes[max_ind]\n",
    "            best_bboxes.append(best_bbox)\n",
    "            cls_bboxes = np.concatenate([cls_bboxes[: max_ind], cls_bboxes[max_ind + 1:]])\n",
    "            # Process 3: Calculate this bounding box A and\n",
    "            # Remain all iou of the bounding box and remove those bounding boxes whose iou value is higher than the threshold \n",
    "            iou = bboxes_iou(best_bbox[np.newaxis, :4], cls_bboxes[:, :4])\n",
    "            weight = np.ones((len(iou),), dtype=np.float32)\n",
    "\n",
    "            assert method in ['nms', 'soft-nms']\n",
    "\n",
    "            if method == 'nms':\n",
    "                iou_mask = iou > iou_threshold\n",
    "                weight[iou_mask] = 0.0\n",
    "\n",
    "            if method == 'soft-nms':\n",
    "                weight = np.exp(-(1.0 * iou ** 2 / sigma))\n",
    "\n",
    "            cls_bboxes[:, 4] = cls_bboxes[:, 4] * weight\n",
    "            score_mask = cls_bboxes[:, 4] > 0.\n",
    "            cls_bboxes = cls_bboxes[score_mask]\n",
    "\n",
    "    return best_bboxes\n",
    "\n",
    "def image_preprocess(image, target_size, gt_boxes=None):\n",
    "    ih, iw    = target_size\n",
    "    h,  w, _  = image.shape\n",
    "\n",
    "    scale = min(iw/w, ih/h)\n",
    "    nw, nh  = int(scale * w), int(scale * h)\n",
    "    image_resized = cv2.resize(image, (nw, nh))\n",
    "\n",
    "    image_paded = np.full(shape=[ih, iw, 3], fill_value=128.0)\n",
    "    dw, dh = (iw - nw) // 2, (ih-nh) // 2\n",
    "    image_paded[dh:nh+dh, dw:nw+dw, :] = image_resized\n",
    "    image_paded = image_paded / 255.\n",
    "\n",
    "    if gt_boxes is None:\n",
    "        return image_paded\n",
    "\n",
    "    else:\n",
    "        gt_boxes[:, [0, 2]] = gt_boxes[:, [0, 2]] * scale + dw\n",
    "        gt_boxes[:, [1, 3]] = gt_boxes[:, [1, 3]] * scale + dh\n",
    "        return image_paded, gt_boxes\n",
    "\n",
    "def read_class_names(class_file_name):\n",
    "    # loads class name from a file\n",
    "    names = {}\n",
    "    with open(class_file_name, 'r') as data:\n",
    "        for ID, name in enumerate(data):\n",
    "            names[ID] = name.strip('\\n')\n",
    "    return names\n",
    "\n",
    "def decode(conv_output, NUM_CLASS, i=0):\n",
    "    # where i = 0, 1 or 2 to correspond to the three grid scales  \n",
    "    conv_shape       = tf.shape(conv_output)\n",
    "    batch_size       = conv_shape[0]\n",
    "    output_size      = conv_shape[1]\n",
    "\n",
    "    conv_output = tf.reshape(conv_output, (batch_size, output_size, output_size, 3, 5 + NUM_CLASS))\n",
    "\n",
    "    #conv_raw_dxdy = conv_output[:, :, :, :, 0:2] # offset of center position     \n",
    "    #conv_raw_dwdh = conv_output[:, :, :, :, 2:4] # Prediction box length and width offset\n",
    "    #conv_raw_conf = conv_output[:, :, :, :, 4:5] # confidence of the prediction box\n",
    "    #conv_raw_prob = conv_output[:, :, :, :, 5: ] # category probability of the prediction box\n",
    "    conv_raw_dxdy, conv_raw_dwdh, conv_raw_conf, conv_raw_prob = tf.split(conv_output, (2, 2, 1, NUM_CLASS), axis=-1)\n",
    "\n",
    "    # next need Draw the grid. Where output_size is equal to 13, 26 or 52  \n",
    "    #y = tf.range(output_size, dtype=tf.int32)\n",
    "    #y = tf.expand_dims(y, -1)\n",
    "    #y = tf.tile(y, [1, output_size])\n",
    "    #x = tf.range(output_size,dtype=tf.int32)\n",
    "    #x = tf.expand_dims(x, 0)\n",
    "    #x = tf.tile(x, [output_size, 1])\n",
    "    xy_grid = tf.meshgrid(tf.range(output_size), tf.range(output_size))\n",
    "    xy_grid = tf.expand_dims(tf.stack(xy_grid, axis=-1), axis=2)  # [gx, gy, 1, 2]\n",
    "    xy_grid = tf.tile(tf.expand_dims(xy_grid, axis=0), [batch_size, 1, 1, 3, 1])\n",
    "    xy_grid = tf.cast(xy_grid, tf.float32)\n",
    "    \n",
    "    #xy_grid = tf.concat([x[:, :, tf.newaxis], y[:, :, tf.newaxis]], axis=-1)\n",
    "    #xy_grid = tf.tile(xy_grid[tf.newaxis, :, :, tf.newaxis, :], [batch_size, 1, 1, 3, 1])\n",
    "    #y_grid = tf.cast(xy_grid, tf.float32)\n",
    "\n",
    "    # Calculate the center position of the prediction box:\n",
    "    pred_xy = (tf.sigmoid(conv_raw_dxdy) + xy_grid) * STRIDES[i]\n",
    "    # Calculate the length and width of the prediction box:\n",
    "    pred_wh = (tf.exp(conv_raw_dwdh) * ANCHORS[i]) * STRIDES[i]\n",
    "\n",
    "    pred_xywh = tf.concat([pred_xy, pred_wh], axis=-1)\n",
    "    pred_conf = tf.sigmoid(conv_raw_conf) # object box calculates the predicted confidence\n",
    "    pred_prob = tf.sigmoid(conv_raw_prob) # calculating the predicted probability category box object\n",
    "\n",
    "    # calculating the predicted probability category box object\n",
    "    return tf.concat([pred_xywh, pred_conf, pred_prob], axis=-1)\n",
    "\n",
    "def Create_Yolo(input_size=416, channels=3, training=False, CLASSES=YOLO_COCO_CLASSES):\n",
    "    NUM_CLASS = len(read_class_names(CLASSES))\n",
    "    input_layer  = Input([input_size, input_size, channels])\n",
    "\n",
    "    if TRAIN_YOLO_TINY:\n",
    "        if YOLO_TYPE == \"yolov4\":\n",
    "            conv_tensors = YOLOv4_tiny(input_layer, NUM_CLASS)\n",
    "        if YOLO_TYPE == \"yolov3\":\n",
    "            conv_tensors = YOLOv3_tiny(input_layer, NUM_CLASS)\n",
    "    else:\n",
    "        if YOLO_TYPE == \"yolov4\":\n",
    "            conv_tensors = YOLOv4(input_layer, NUM_CLASS)\n",
    "        if YOLO_TYPE == \"yolov3\":\n",
    "            conv_tensors = YOLOv3(input_layer, NUM_CLASS)\n",
    "\n",
    "    output_tensors = []\n",
    "    for i, conv_tensor in enumerate(conv_tensors):\n",
    "        pred_tensor = decode(conv_tensor, NUM_CLASS, i)\n",
    "        if training: output_tensors.append(conv_tensor)\n",
    "        output_tensors.append(pred_tensor)\n",
    "\n",
    "    Yolo = tf.keras.Model(input_layer, output_tensors)\n",
    "    return Yolo"
   ]
  },
  {
   "cell_type": "code",
   "execution_count": 382,
   "metadata": {},
   "outputs": [
    {
     "data": {
      "text/plain": [
       "<tensorflow.python.training.tracking.util.CheckpointLoadStatus at 0x7fddb473bcd0>"
      ]
     },
     "execution_count": 382,
     "metadata": {},
     "output_type": "execute_result"
    }
   ],
   "source": [
    "yolo = Create_Yolo(input_size=224, CLASSES=TRAIN_CLASSES)\n",
    "yolo.load_weights(f\"./checkpoints/clock/yolov4\") # use keras weights"
   ]
  },
  {
   "cell_type": "code",
   "execution_count": 383,
   "metadata": {},
   "outputs": [
    {
     "name": "stdout",
     "output_type": "stream",
     "text": [
      "./clockNumData/test/21_clockDigit.jpg\n"
     ]
    },
    {
     "data": {
      "image/png": "[encoded data removed]",
      "text/plain": [
       "<Figure size 432x288 with 1 Axes>"
      ]
     },
     "metadata": {
      "needs_background": "light"
     },
     "output_type": "display_data"
    }
   ],
   "source": [
    "\n",
    "ID = 20\n",
    "label_txt = \"clockNumData/test.txt\"\n",
    "image_info = open(label_txt).readlines()[ID].split()\n",
    "image_path = image_info[0]\n",
    "print(image_path)\n",
    "image_path = \"./clockNumData/test.jpg\";\n",
    "img, bboxes = detect_image(yolo, image_path, \"txt.jpg\", input_size=224, show=False, \n",
    "                CLASSES=TRAIN_CLASSES, rectangle_colors=(125,0,0));"
   ]
  },
  {
   "cell_type": "code",
   "execution_count": 344,
   "metadata": {},
   "outputs": [
    {
     "data": {
      "text/plain": [
       "[array([355.27255249, 219.93519592, 402.44171143, 265.37609863,\n",
       "          0.77413738,   3.        ]),\n",
       " array([334.47073364, 248.02484131, 378.67208862, 292.95367432,\n",
       "          0.74734962,   3.        ])]"
      ]
     },
     "execution_count": 344,
     "metadata": {},
     "output_type": "execute_result"
    }
   ],
   "source": [
    "merge_bboxes(bboxes[7:9])"
   ]
  },
  {
   "cell_type": "code",
   "execution_count": 85,
   "metadata": {},
   "outputs": [
    {
     "data": {
      "text/plain": [
       "[array([ 98.60335541, 137.19139099, 158.539505  , 187.32414246,\n",
       "          0.97983241,   2.        ]),\n",
       " array([382.35070801, 170.26812744, 431.93499756, 221.46089172,\n",
       "          0.9795084 ,   2.        ]),\n",
       " array([472.48959351, 234.7878418 , 513.22467041, 284.46759033,\n",
       "          0.95173472,   3.        ]),\n",
       " array([481.90454102, 336.00683594, 546.66687012, 386.7305603 ,\n",
       "          0.87056196,   4.        ]),\n",
       " array([335.2947998 , 440.54602051, 393.27661133, 490.92520142,\n",
       "          0.97631073,   6.        ]),\n",
       " array([236.93763733, 421.22338867, 277.3480835 , 470.97631836,\n",
       "          0.866777  ,   8.        ]),\n",
       " array([136.34143066, 400.07766724, 206.51570129, 450.96130371,\n",
       "          0.81497943,   9.        ]),\n",
       " array([451.71334839, 406.45391846, 488.9928894 , 456.90322876,\n",
       "          0.93461168,   5.        ]),\n",
       " array([279.39794922, 439.38763428, 315.99945068, 489.64691162,\n",
       "          0.95988834,   7.        ])]"
      ]
     },
     "execution_count": 85,
     "metadata": {},
     "output_type": "execute_result"
    }
   ],
   "source": [
    "bboxes[-9:]"
   ]
  },
  {
   "cell_type": "code",
   "execution_count": 8,
   "metadata": {},
   "outputs": [],
   "source": [
    "a = np.array([1,2,3,4,5])"
   ]
  },
  {
   "cell_type": "code",
   "execution_count": 346,
   "metadata": {},
   "outputs": [
    {
     "name": "stdout",
     "output_type": "stream",
     "text": [
      "3.0 3.0\n"
     ]
    },
    {
     "data": {
      "text/plain": [
       "[array([355.27255249, 248.02484131, 378.67208862, 265.37609863,\n",
       "          0.77413738,   3.        ])]"
      ]
     },
     "execution_count": 346,
     "metadata": {},
     "output_type": "execute_result"
    }
   ],
   "source": [
    "def rescaleImg"
   ]
  },
  {
   "cell_type": "code",
   "execution_count": 369,
   "metadata": {},
   "outputs": [],
   "source": [
    "def box_area(box):\n",
    "    return (box[3] - box[1]) * (box[2] - box[0])\n",
    "\n",
    "def overlap_box(box1, box2):\n",
    "    x1 = max(box1[0], box2[0])\n",
    "    y1 = max(box1[1], box2[1])\n",
    "\n",
    "    x2 = min(box1[2], box2[2])\n",
    "    y2 = min(box1[3], box2[3])\n",
    "    if x2 > x1 and y2 > y1 and box1[5] == box2[5]:\n",
    "        return np.array([x1, y1, x2, y2, box1[4], box1[5]])\n",
    "    else:\n",
    "        return [0, 0, 0, 0, -1, -1]\n",
    "def outJoin_box(box1, box2):\n",
    "    x1 = min(box1[0], box2[0])\n",
    "    y1 = min(box1[1], box2[1])\n",
    "\n",
    "    x2 = max(box1[2], box2[2])\n",
    "    y2 = max(box1[3], box2[3])\n",
    "    return np.array([x1, y1, x2, y2, box1[4], box1[5]])\n",
    "\n",
    "def merge_bboxes(bboxes):\n",
    "    bboxesSize = len(bboxes) + 1\n",
    "    if bboxesSize <= 1:\n",
    "        return bboxes\n",
    "    while len(bboxes) < bboxesSize:\n",
    "        bboxesSize = len(bboxes)\n",
    "        overlapMatrix = np.zeros((bboxesSize, bboxesSize))\n",
    "        for i in range(bboxesSize - 1):\n",
    "            for j in range(i+1, bboxesSize):\n",
    "                overlapBox = overlap_box(bboxes[i], bboxes[j])\n",
    "                overlapA = box_area(overlapBox)\n",
    "                if overlapA < 0:\n",
    "                    continue\n",
    "                bA1 = box_area(bboxes[i])\n",
    "                bA2 = box_area(bboxes[j])\n",
    "                overlapP = max(overlapA / bA1, overlapA / bA2) \n",
    "                if  overlapP >= 0.8:\n",
    "                    overlapMatrix[i,j] = overlapP\n",
    "                if bboxes[i][5] != 1:\n",
    "                    overlapMatrix[i,j] = overlapP\n",
    "\n",
    "        idx = np.argmax(overlapMatrix)\n",
    "        rowI = idx // bboxesSize\n",
    "        colI = idx % bboxesSize\n",
    "        #print(bboxes)\n",
    "        if np.max(overlapMatrix) > 0.5:\n",
    "            #print(bboxes[rowI][5], bboxes[colI][5])\n",
    "            overlapBox = overlap_box(bboxes[rowI], bboxes[colI])\n",
    "            bboxes.pop(colI)\n",
    "            bboxes.pop(rowI)\n",
    "            bboxes.append(overlapBox)\n",
    "        if np.max(overlapMatrix) > 0.4:\n",
    "            #print(bboxes[rowI][5], bboxes[colI][5])\n",
    "            overlapBox = outJoin_box(bboxes[rowI], bboxes[colI])\n",
    "            bboxes.pop(colI)\n",
    "            bboxes.pop(rowI)\n",
    "            bboxes.append(overlapBox)\n",
    "\n",
    "        #print(bboxes[5:9])\n",
    "            \n",
    "    return bboxes\n",
    "            \n"
   ]
  },
  {
   "cell_type": "code",
   "execution_count": 286,
   "metadata": {},
   "outputs": [],
   "source": [
    "def get_rescale(data):\n",
    "    resultX = []\n",
    "    resultY = []\n",
    "    resultH = []\n",
    "    for stroke in data:\n",
    "        Xs = []\n",
    "        Ys = []\n",
    "        for key in stroke.keys():\n",
    "            for coor in stroke[key]:\n",
    "                Xs.append(coor['x'])\n",
    "                Ys.append(coor['y'])\n",
    "        if len(Xs) != 0:\n",
    "            resultX.append(Xs)\n",
    "            resultY.append(Ys)\n",
    "            resultH.append(max(Ys) - min(Ys))\n",
    "    minY = min([min(ele) for ele in resultY])\n",
    "    maxY = max([max(ele) for ele in resultY])\n",
    "    h = np.mean(resultH)\n",
    "    scale = 40 / 480 * (maxY - minY) / h\n",
    "    return scale\n",
    "\n",
    "def resacle_image(scale, image, ih, iw):\n",
    "    h,  w, _  = image.shape\n",
    "    scale = min(iw/w, ih/h)\n",
    "    nw, nh  = int(scale * w), int(scale * h)\n",
    "    image_resized = cv2.resize(image, (nw, nh))\n",
    "    image_paded = np.full(shape=[600, 600, 3], fill_value=255.0)\n",
    "    dw, dh = (600-nw)//2,( 600-nh)//2\n",
    "    image_paded[dh:nh+dh, dw:nw+dw, :] = image_resized\n",
    "    image = image_paded\n",
    "    return image, dw, dh"
   ]
  },
  {
   "cell_type": "code",
   "execution_count": 287,
   "metadata": {},
   "outputs": [],
   "source": [
    "import json\n",
    "with open(\"data/app_data/clock_number.txt\", \"r\") as f:\n",
    "    data = f.read()\n",
    "data = json.loads(data)\n",
    "data = json.loads(data)"
   ]
  },
  {
   "cell_type": "code",
   "execution_count": 288,
   "metadata": {},
   "outputs": [],
   "source": [
    "scale = get_rescale(data)\n",
    "ih, iw, _ = image.shape * scale"
   ]
  },
  {
   "cell_type": "code",
   "execution_count": 289,
   "metadata": {},
   "outputs": [
    {
     "data": {
      "text/plain": [
       "310.7194992390513"
      ]
     },
     "execution_count": 289,
     "metadata": {},
     "output_type": "execute_result"
    }
   ],
   "source": []
  },
  {
   "cell_type": "code",
   "execution_count": 223,
   "metadata": {},
   "outputs": [],
   "source": [
    "image = cv2.imread(\"./clockNumData/test.jpg\")\n",
    "ih, iw    = 377, 377\n",
    "h,  w, _  = image.shape\n",
    "#scale = min(iw/w, ih/h)\n",
    "nw, nh  = int(scale * w), int(scale * h)\n",
    "image_resized = cv2.resize(image, (nw, nh))\n",
    "image_paded = np.full(shape=[600, 600, 3], fill_value=255.0)\n",
    "dw, dh = 0,  0\n",
    "image_paded[dh:nh+dh, dw:nw+dw, :] = image_resized\n",
    "image_paded = image_paded / 255."
   ]
  },
  {
   "cell_type": "code",
   "execution_count": 224,
   "metadata": {},
   "outputs": [
    {
     "data": {
      "text/plain": [
       "(-0.5, 599.5, 599.5, -0.5)"
      ]
     },
     "execution_count": 224,
     "metadata": {},
     "output_type": "execute_result"
    },
    {
     "data": {
      "image/png": "[encoded data removed]",
      "text/plain": [
       "<Figure size 432x288 with 1 Axes>"
      ]
     },
     "metadata": {
      "needs_background": "light"
     },
     "output_type": "display_data"
    }
   ],
   "source": [
    "import matplotlib.pyplot as plt\n",
    "plt.imshow(image_paded)\n",
    "plt.axis('off')"
   ]
  },
  {
   "cell_type": "code",
   "execution_count": 158,
   "metadata": {},
   "outputs": [
    {
     "ename": "AttributeError",
     "evalue": "module 'math' has no attribute 'median'",
     "output_type": "error",
     "traceback": [
      "\u001b[0;31m---------------------------------------------------------------------------\u001b[0m",
      "\u001b[0;31mAttributeError\u001b[0m                            Traceback (most recent call last)",
      "\u001b[1;32m/Users/collin/Documents/GitHub/yolo4_written_number/detect.ipynb Cell 20'\u001b[0m in \u001b[0;36m<module>\u001b[0;34m\u001b[0m\n\u001b[1;32m      <a href='vscode-notebook-cell:/Users/collin/Documents/GitHub/yolo4_written_number/detect.ipynb#ch0000019?line=0'>1</a>\u001b[0m \u001b[39mimport\u001b[39;00m \u001b[39mmath\u001b[39;00m\n\u001b[0;32m----> <a href='vscode-notebook-cell:/Users/collin/Documents/GitHub/yolo4_written_number/detect.ipynb#ch0000019?line=1'>2</a>\u001b[0m math\u001b[39m.\u001b[39;49mmedian([\u001b[39m1\u001b[39m,\u001b[39m2\u001b[39m,\u001b[39m3\u001b[39m])\n",
      "\u001b[0;31mAttributeError\u001b[0m: module 'math' has no attribute 'median'"
     ]
    }
   ],
   "source": [
    "import math\n",
    "math.median([1,2,3])"
   ]
  },
  {
   "cell_type": "code",
   "execution_count": null,
   "metadata": {},
   "outputs": [],
   "source": []
  }
 ],
 "metadata": {
  "kernelspec": {
   "display_name": "CDTenv1",
   "language": "python",
   "name": "cdtenv"
  },
  "language_info": {
   "codemirror_mode": {
    "name": "ipython",
    "version": 3
   },
   "file_extension": ".py",
   "mimetype": "text/x-python",
   "name": "python",
   "nbconvert_exporter": "python",
   "pygments_lexer": "ipython3",
   "version": "3.8.3"
  },
  "orig_nbformat": 4
 },
 "nbformat": 4,
 "nbformat_minor": 2
}
