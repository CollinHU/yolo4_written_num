{
 "cells": [
  {
   "cell_type": "code",
   "execution_count": 1,
   "id": "146df4c3",
   "metadata": {},
   "outputs": [],
   "source": [
    "import matplotlib.pyplot as plt\n",
    "import cv2"
   ]
  },
  {
   "cell_type": "code",
   "execution_count": 20,
   "id": "ac1af078",
   "metadata": {},
   "outputs": [
    {
     "name": "stdout",
     "output_type": "stream",
     "text": [
      "./mnist/mnist_test/000002.jpg\n"
     ]
    }
   ],
   "source": [
    "label_txt = \"mnist_test.txt\"\n",
    "ID = 1\n",
    "image_info = open(label_txt).readlines()[ID].split()\n",
    "image_path = image_info[0]\n",
    "print(image_path)"
   ]
  },
  {
   "cell_type": "code",
   "execution_count": 64,
   "id": "4d397cba",
   "metadata": {},
   "outputs": [],
   "source": [
    "label_txt = \"mnist_test.txt\"\n",
    "f = open(label_txt)\n",
    "file = f.readlines()"
   ]
  },
  {
   "cell_type": "code",
   "execution_count": 65,
   "id": "c4f77021",
   "metadata": {},
   "outputs": [],
   "source": [
    "label_txt = \"mnist_test.txt\"\n",
    "f = open(label_txt)\n",
    "file = f.readlines()\n",
    "for j in range(200):\n",
    "    image_info = file[j].split()\n",
    "    image_path = image_info[0]\n",
    "    label = image_path + ' '\n",
    "    for i in range(1, len(image_info)):\n",
    "        rect = [int(itm) for itm in image_info[i].split(',')]\n",
    "        w  = rect[2] - rect[0]\n",
    "        h  = rect[3] - rect[1]\n",
    "        dw = w *  12 / 50\n",
    "        dh = h * 5 / 50\n",
    "        if tmp[4] == 1:\n",
    "            dw = round(w *  17 / 50)\n",
    "\n",
    "        label += str(round(rect[0] + dw))\n",
    "        label += ','\n",
    "        label += str(round(rect[1] + dh))\n",
    "        label += ','\n",
    "        label += str(round(rect[2] - dw))\n",
    "        label += ','\n",
    "        label += str(round(rect[3] - dh))\n",
    "        label += ','\n",
    "        label += str(rect[4])\n",
    "        label += ' '\n",
    "    label += '\\n'\n",
    "    with open('test.txt', 'a') as f:\n",
    "        f.write(label)"
   ]
  },
  {
   "cell_type": "code",
   "execution_count": 66,
   "id": "fb936c2c",
   "metadata": {},
   "outputs": [],
   "source": [
    "label_txt = \"test.txt\"\n",
    "f = open(label_txt)\n",
    "file = f.readlines()"
   ]
  },
  {
   "cell_type": "code",
   "execution_count": 67,
   "id": "c1f79a02",
   "metadata": {},
   "outputs": [],
   "source": [
    "ID = 1\n",
    "image_info = file[ID].split()\n",
    "rects = []\n",
    "for i in range(1, len(image_info)):\n",
    "    rects.append([int(itm) for itm in image_info[i].split(',')])\n"
   ]
  },
  {
   "cell_type": "code",
   "execution_count": 68,
   "id": "f9b263b2",
   "metadata": {},
   "outputs": [
    {
     "data": {
      "text/plain": [
       "[131, 177, 135, 189, 9]"
      ]
     },
     "execution_count": 68,
     "metadata": {},
     "output_type": "execute_result"
    }
   ],
   "source": [
    "rects[0]"
   ]
  },
  {
   "cell_type": "code",
   "execution_count": 69,
   "id": "5c1f443a",
   "metadata": {},
   "outputs": [
    {
     "data": {
      "image/png": "[encoded data removed]",
      "text/plain": [
       "<Figure size 576x576 with 1 Axes>"
      ]
     },
     "metadata": {
      "needs_background": "light"
     },
     "output_type": "display_data"
    }
   ],
   "source": [
    "plt.figure(figsize=(8,8))\n",
    "image= cv2.imread(\"mnist_test/000002.jpg\")\n",
    "#118,164,160,206,5 \n",
    "#148,198,204,254,1 \n",
    "#32,95,74,137,2 \n",
    "#331,317,373,359,3 \n",
    "#213,87,325,199,5 \n",
    "#202,281,314,393,3\n",
    "rect = rects[0]\n",
    "x = (rect[0] + rect[2]) / 2\n",
    "y = (rect[1] + rect[3]) / 2\n",
    "img = cv2.rectangle(image, (rect[0], rect[1]), (rect[2],\n",
    "                            rect[3]), color= (121, 11, 189),  thickness=2)\n",
    "point = (rect[0], rect[1])\n",
    "plt.plot(rect[0], rect[1], 'o')\n",
    "plt.annotate(rect[4], xy=point, fontsize = 22, color = 'red')\n",
    "plt.imshow(img, cmap=\"gray\")\n",
    "plt.axis('off')\n",
    "plt.show()"
   ]
  },
  {
   "cell_type": "code",
   "execution_count": 15,
   "id": "5a2e2492",
   "metadata": {},
   "outputs": [
    {
     "data": {
      "text/plain": [
       "(416, 416, 3)"
      ]
     },
     "execution_count": 15,
     "metadata": {},
     "output_type": "execute_result"
    }
   ],
   "source": [
    "image.shape"
   ]
  },
  {
   "cell_type": "code",
   "execution_count": null,
   "id": "71835e46",
   "metadata": {},
   "outputs": [],
   "source": []
  }
 ],
 "metadata": {
  "kernelspec": {
   "display_name": "CDTenv1",
   "language": "python",
   "name": "cdtenv"
  },
  "language_info": {
   "codemirror_mode": {
    "name": "ipython",
    "version": 3
   },
   "file_extension": ".py",
   "mimetype": "text/x-python",
   "name": "python",
   "nbconvert_exporter": "python",
   "pygments_lexer": "ipython3",
   "version": "3.8.3"
  },
  "toc": {
   "base_numbering": 1,
   "nav_menu": {},
   "number_sections": true,
   "sideBar": true,
   "skip_h1_title": false,
   "title_cell": "Table of Contents",
   "title_sidebar": "Contents",
   "toc_cell": false,
   "toc_position": {},
   "toc_section_display": true,
   "toc_window_display": false
  }
 },
 "nbformat": 4,
 "nbformat_minor": 5
}
